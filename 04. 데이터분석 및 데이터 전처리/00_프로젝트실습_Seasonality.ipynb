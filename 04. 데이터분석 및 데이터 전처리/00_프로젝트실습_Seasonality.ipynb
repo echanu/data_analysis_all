{
  "nbformat": 4,
  "nbformat_minor": 0,
  "metadata": {
    "colab": {
      "provenance": []
    },
    "kernelspec": {
      "name": "python3",
      "display_name": "Python 3"
    },
    "language_info": {
      "name": "python"
    }
  },
  "cells": [
    {
      "cell_type": "markdown",
      "source": [
        "[데이터타입 통합]\n",
        "kopo_channel_seasonality_new.csv 파일을\n",
        "\n",
        "불러온 후selloutData 변수에 담으세요 이후\n",
        "QTY컬럼→실수(float),\n",
        "이외컬럼→문자(str)로 변경하세요"
      ],
      "metadata": {
        "id": "RevCC6Hs0JMs"
      }
    },
    {
      "cell_type": "code",
      "source": [
        "import numpy as np\n",
        "import pandas as pd"
      ],
      "metadata": {
        "id": "jCD0lNZpmCQ8"
      },
      "execution_count": 9,
      "outputs": []
    },
    {
      "cell_type": "code",
      "source": [
        "\n",
        "selloutData = pd.read_csv(\"https://raw.githubusercontent.com/hyokwan/python-lecture/master/dataset/kopo_channel_seasonality_new.csv\")\n",
        "\n",
        "columnList = list(selloutData.columns)\n",
        "\n",
        "for i in range(0,len(columnList)):\n",
        "  selloutData[columnList[i]] = selloutData[columnList[i]].astype(str)\n",
        "\n",
        "selloutData.QTY = selloutData.QTY.astype(float)"
      ],
      "metadata": {
        "id": "R4t4k8cklOcp"
      },
      "execution_count": 3,
      "outputs": []
    },
    {
      "cell_type": "markdown",
      "source": [
        "[불량 데이터 처리]\n",
        "kopo_channel_seasonality_new.csv 자료를 담은\n",
        "selloutData 변수에서\n",
        "QTY컬럼 음수(반품)인 경우 0, 양수인 경우 기존 QTY 값\n",
        "유지하는 로직을 적용하여 QTY_NEW 컬럼을 추가하세요\n"
      ],
      "metadata": {
        "id": "WS-TRMTYd_g_"
      }
    },
    {
      "cell_type": "code",
      "source": [
        "# QTY 음수 제거\n",
        "selloutData[\"QTY_NEW\"] = np.where( selloutData.QTY < 0, 0, selloutData.QTY)\n",
        "selloutData.loc[ (selloutData.QTY < 0) &\n",
        "                 (selloutData.QTY_NEW != 0)]\n",
        "selloutData.loc[ (selloutData.QTY >= 0) &\n",
        "                 (selloutData.QTY_NEW != selloutData.QTY)]"
      ],
      "metadata": {
        "id": "4Dq7qtXMldQG"
      },
      "execution_count": 8,
      "outputs": []
    },
    {
      "cell_type": "markdown",
      "source": [
        "[데이터 통합]\n",
        "selloutData 자료에서\n",
        "YEAR, WEEK 컬럼을 생성하고 WEEK 컬럼 값이 52 이하인\n",
        "데이터만 refinedSelloutData 변수에 저장하세요"
      ],
      "metadata": {
        "id": "styoRGVNmufC"
      }
    },
    {
      "cell_type": "code",
      "source": [
        "# 연주차 컬럼 생성 및 특정 조회조건에 따른 데이터 제거\n",
        "selloutData[\"YEAR\"] = selloutData.YEARWEEK.str[:4]\n",
        "selloutData[\"WEEK\"] = selloutData.YEARWEEK.str[4:]\n",
        "refinedSelloutData = selloutData.loc[ selloutData.WEEK.astype(int) <= 52 ]\n",
        "refinedSelloutData.loc[ refinedSelloutData.WEEK == \"53\"]\n",
        "selloutData.loc[ selloutData.WEEK == \"53\"].shape\n",
        "selloutData.shape[0] - refinedSelloutData.shape[0]\n",
        "# 123864\n",
        "refinedSelloutData.shape"
      ],
      "metadata": {
        "collapsed": true,
        "id": "0oDYwxoYnnLz"
      },
      "execution_count": 17,
      "outputs": []
    },
    {
      "cell_type": "markdown",
      "source": [
        "refinedSelloutData 에서 →\n",
        "지역, 상품, 연주차 컬럼순으로 오름차순 정렬하여\n",
        "sortedData 변수에 담으세요\n"
      ],
      "metadata": {
        "id": "gvIBc2hJ2-OE"
      }
    },
    {
      "cell_type": "code",
      "source": [
        "### 실습하기"
      ],
      "metadata": {
        "id": "zGuS9NLuMU6z"
      },
      "execution_count": 48,
      "outputs": []
    },
    {
      "cell_type": "markdown",
      "source": [
        "[지역, 상품, 연도 별 집계]\n",
        "sortedData 에서 지역, 상품, 연도 단위\n",
        "판매량(QTY_NEW) 의 평균 연산 후\n",
        "groupData 변수에 담으세요\n",
        "\n",
        "이후 컬럼명을 QTY_MEAN로 변경하세요\n"
      ],
      "metadata": {
        "id": "gd1mlGWF2-L9"
      }
    },
    {
      "cell_type": "code",
      "source": [
        "### 실습하기"
      ],
      "metadata": {
        "id": "yRICkIUw2-Jm"
      },
      "execution_count": 47,
      "outputs": []
    },
    {
      "cell_type": "code",
      "source": [],
      "metadata": {
        "id": "NTtygUZw2-HF"
      },
      "execution_count": null,
      "outputs": []
    },
    {
      "cell_type": "code",
      "source": [],
      "metadata": {
        "id": "gm8h62nn2-Eq"
      },
      "execution_count": null,
      "outputs": []
    },
    {
      "cell_type": "code",
      "source": [],
      "metadata": {
        "id": "wB8uyLvM2-CV"
      },
      "execution_count": null,
      "outputs": []
    },
    {
      "cell_type": "code",
      "source": [],
      "metadata": {
        "id": "AvCemBbj29_r"
      },
      "execution_count": null,
      "outputs": []
    },
    {
      "cell_type": "code",
      "source": [],
      "metadata": {
        "id": "W0CI29exqtlH"
      },
      "execution_count": null,
      "outputs": []
    },
    {
      "cell_type": "code",
      "source": [
        "create table new_table as\n",
        "select * from kopo_channel_seasaonality_new where wee <= 52"
      ],
      "metadata": {
        "colab": {
          "base_uri": "https://localhost:8080/",
          "height": 112
        },
        "id": "uovNXAYumwar",
        "outputId": "9394ca28-c154-47a5-e0d9-90c9f78bee86"
      },
      "execution_count": 14,
      "outputs": [
        {
          "output_type": "execute_result",
          "data": {
            "text/plain": [
              "  REGIONID    PRODUCT YEARWEEK      QTY  QTY_NEW\n",
              "0      A60   PRODUCT4   201402     71.0     71.0\n",
              "1      A60  PRODUCT59   201402  22275.0  22275.0"
            ],
            "text/html": [
              "\n",
              "  <div id=\"df-af440f37-15e1-46b2-b3ef-821d759018bf\" class=\"colab-df-container\">\n",
              "    <div>\n",
              "<style scoped>\n",
              "    .dataframe tbody tr th:only-of-type {\n",
              "        vertical-align: middle;\n",
              "    }\n",
              "\n",
              "    .dataframe tbody tr th {\n",
              "        vertical-align: top;\n",
              "    }\n",
              "\n",
              "    .dataframe thead th {\n",
              "        text-align: right;\n",
              "    }\n",
              "</style>\n",
              "<table border=\"1\" class=\"dataframe\">\n",
              "  <thead>\n",
              "    <tr style=\"text-align: right;\">\n",
              "      <th></th>\n",
              "      <th>REGIONID</th>\n",
              "      <th>PRODUCT</th>\n",
              "      <th>YEARWEEK</th>\n",
              "      <th>QTY</th>\n",
              "      <th>QTY_NEW</th>\n",
              "    </tr>\n",
              "  </thead>\n",
              "  <tbody>\n",
              "    <tr>\n",
              "      <th>0</th>\n",
              "      <td>A60</td>\n",
              "      <td>PRODUCT4</td>\n",
              "      <td>201402</td>\n",
              "      <td>71.0</td>\n",
              "      <td>71.0</td>\n",
              "    </tr>\n",
              "    <tr>\n",
              "      <th>1</th>\n",
              "      <td>A60</td>\n",
              "      <td>PRODUCT59</td>\n",
              "      <td>201402</td>\n",
              "      <td>22275.0</td>\n",
              "      <td>22275.0</td>\n",
              "    </tr>\n",
              "  </tbody>\n",
              "</table>\n",
              "</div>\n",
              "    <div class=\"colab-df-buttons\">\n",
              "\n",
              "  <div class=\"colab-df-container\">\n",
              "    <button class=\"colab-df-convert\" onclick=\"convertToInteractive('df-af440f37-15e1-46b2-b3ef-821d759018bf')\"\n",
              "            title=\"Convert this dataframe to an interactive table.\"\n",
              "            style=\"display:none;\">\n",
              "\n",
              "  <svg xmlns=\"http://www.w3.org/2000/svg\" height=\"24px\" viewBox=\"0 -960 960 960\">\n",
              "    <path d=\"M120-120v-720h720v720H120Zm60-500h600v-160H180v160Zm220 220h160v-160H400v160Zm0 220h160v-160H400v160ZM180-400h160v-160H180v160Zm440 0h160v-160H620v160ZM180-180h160v-160H180v160Zm440 0h160v-160H620v160Z\"/>\n",
              "  </svg>\n",
              "    </button>\n",
              "\n",
              "  <style>\n",
              "    .colab-df-container {\n",
              "      display:flex;\n",
              "      gap: 12px;\n",
              "    }\n",
              "\n",
              "    .colab-df-convert {\n",
              "      background-color: #E8F0FE;\n",
              "      border: none;\n",
              "      border-radius: 50%;\n",
              "      cursor: pointer;\n",
              "      display: none;\n",
              "      fill: #1967D2;\n",
              "      height: 32px;\n",
              "      padding: 0 0 0 0;\n",
              "      width: 32px;\n",
              "    }\n",
              "\n",
              "    .colab-df-convert:hover {\n",
              "      background-color: #E2EBFA;\n",
              "      box-shadow: 0px 1px 2px rgba(60, 64, 67, 0.3), 0px 1px 3px 1px rgba(60, 64, 67, 0.15);\n",
              "      fill: #174EA6;\n",
              "    }\n",
              "\n",
              "    .colab-df-buttons div {\n",
              "      margin-bottom: 4px;\n",
              "    }\n",
              "\n",
              "    [theme=dark] .colab-df-convert {\n",
              "      background-color: #3B4455;\n",
              "      fill: #D2E3FC;\n",
              "    }\n",
              "\n",
              "    [theme=dark] .colab-df-convert:hover {\n",
              "      background-color: #434B5C;\n",
              "      box-shadow: 0px 1px 3px 1px rgba(0, 0, 0, 0.15);\n",
              "      filter: drop-shadow(0px 1px 2px rgba(0, 0, 0, 0.3));\n",
              "      fill: #FFFFFF;\n",
              "    }\n",
              "  </style>\n",
              "\n",
              "    <script>\n",
              "      const buttonEl =\n",
              "        document.querySelector('#df-af440f37-15e1-46b2-b3ef-821d759018bf button.colab-df-convert');\n",
              "      buttonEl.style.display =\n",
              "        google.colab.kernel.accessAllowed ? 'block' : 'none';\n",
              "\n",
              "      async function convertToInteractive(key) {\n",
              "        const element = document.querySelector('#df-af440f37-15e1-46b2-b3ef-821d759018bf');\n",
              "        const dataTable =\n",
              "          await google.colab.kernel.invokeFunction('convertToInteractive',\n",
              "                                                    [key], {});\n",
              "        if (!dataTable) return;\n",
              "\n",
              "        const docLinkHtml = 'Like what you see? Visit the ' +\n",
              "          '<a target=\"_blank\" href=https://colab.research.google.com/notebooks/data_table.ipynb>data table notebook</a>'\n",
              "          + ' to learn more about interactive tables.';\n",
              "        element.innerHTML = '';\n",
              "        dataTable['output_type'] = 'display_data';\n",
              "        await google.colab.output.renderOutput(dataTable, element);\n",
              "        const docLink = document.createElement('div');\n",
              "        docLink.innerHTML = docLinkHtml;\n",
              "        element.appendChild(docLink);\n",
              "      }\n",
              "    </script>\n",
              "  </div>\n",
              "\n",
              "\n",
              "<div id=\"df-a65ee284-0b06-4374-8190-1b48d3ff477c\">\n",
              "  <button class=\"colab-df-quickchart\" onclick=\"quickchart('df-a65ee284-0b06-4374-8190-1b48d3ff477c')\"\n",
              "            title=\"Suggest charts\"\n",
              "            style=\"display:none;\">\n",
              "\n",
              "<svg xmlns=\"http://www.w3.org/2000/svg\" height=\"24px\"viewBox=\"0 0 24 24\"\n",
              "     width=\"24px\">\n",
              "    <g>\n",
              "        <path d=\"M19 3H5c-1.1 0-2 .9-2 2v14c0 1.1.9 2 2 2h14c1.1 0 2-.9 2-2V5c0-1.1-.9-2-2-2zM9 17H7v-7h2v7zm4 0h-2V7h2v10zm4 0h-2v-4h2v4z\"/>\n",
              "    </g>\n",
              "</svg>\n",
              "  </button>\n",
              "\n",
              "<style>\n",
              "  .colab-df-quickchart {\n",
              "      --bg-color: #E8F0FE;\n",
              "      --fill-color: #1967D2;\n",
              "      --hover-bg-color: #E2EBFA;\n",
              "      --hover-fill-color: #174EA6;\n",
              "      --disabled-fill-color: #AAA;\n",
              "      --disabled-bg-color: #DDD;\n",
              "  }\n",
              "\n",
              "  [theme=dark] .colab-df-quickchart {\n",
              "      --bg-color: #3B4455;\n",
              "      --fill-color: #D2E3FC;\n",
              "      --hover-bg-color: #434B5C;\n",
              "      --hover-fill-color: #FFFFFF;\n",
              "      --disabled-bg-color: #3B4455;\n",
              "      --disabled-fill-color: #666;\n",
              "  }\n",
              "\n",
              "  .colab-df-quickchart {\n",
              "    background-color: var(--bg-color);\n",
              "    border: none;\n",
              "    border-radius: 50%;\n",
              "    cursor: pointer;\n",
              "    display: none;\n",
              "    fill: var(--fill-color);\n",
              "    height: 32px;\n",
              "    padding: 0;\n",
              "    width: 32px;\n",
              "  }\n",
              "\n",
              "  .colab-df-quickchart:hover {\n",
              "    background-color: var(--hover-bg-color);\n",
              "    box-shadow: 0 1px 2px rgba(60, 64, 67, 0.3), 0 1px 3px 1px rgba(60, 64, 67, 0.15);\n",
              "    fill: var(--button-hover-fill-color);\n",
              "  }\n",
              "\n",
              "  .colab-df-quickchart-complete:disabled,\n",
              "  .colab-df-quickchart-complete:disabled:hover {\n",
              "    background-color: var(--disabled-bg-color);\n",
              "    fill: var(--disabled-fill-color);\n",
              "    box-shadow: none;\n",
              "  }\n",
              "\n",
              "  .colab-df-spinner {\n",
              "    border: 2px solid var(--fill-color);\n",
              "    border-color: transparent;\n",
              "    border-bottom-color: var(--fill-color);\n",
              "    animation:\n",
              "      spin 1s steps(1) infinite;\n",
              "  }\n",
              "\n",
              "  @keyframes spin {\n",
              "    0% {\n",
              "      border-color: transparent;\n",
              "      border-bottom-color: var(--fill-color);\n",
              "      border-left-color: var(--fill-color);\n",
              "    }\n",
              "    20% {\n",
              "      border-color: transparent;\n",
              "      border-left-color: var(--fill-color);\n",
              "      border-top-color: var(--fill-color);\n",
              "    }\n",
              "    30% {\n",
              "      border-color: transparent;\n",
              "      border-left-color: var(--fill-color);\n",
              "      border-top-color: var(--fill-color);\n",
              "      border-right-color: var(--fill-color);\n",
              "    }\n",
              "    40% {\n",
              "      border-color: transparent;\n",
              "      border-right-color: var(--fill-color);\n",
              "      border-top-color: var(--fill-color);\n",
              "    }\n",
              "    60% {\n",
              "      border-color: transparent;\n",
              "      border-right-color: var(--fill-color);\n",
              "    }\n",
              "    80% {\n",
              "      border-color: transparent;\n",
              "      border-right-color: var(--fill-color);\n",
              "      border-bottom-color: var(--fill-color);\n",
              "    }\n",
              "    90% {\n",
              "      border-color: transparent;\n",
              "      border-bottom-color: var(--fill-color);\n",
              "    }\n",
              "  }\n",
              "</style>\n",
              "\n",
              "  <script>\n",
              "    async function quickchart(key) {\n",
              "      const quickchartButtonEl =\n",
              "        document.querySelector('#' + key + ' button');\n",
              "      quickchartButtonEl.disabled = true;  // To prevent multiple clicks.\n",
              "      quickchartButtonEl.classList.add('colab-df-spinner');\n",
              "      try {\n",
              "        const charts = await google.colab.kernel.invokeFunction(\n",
              "            'suggestCharts', [key], {});\n",
              "      } catch (error) {\n",
              "        console.error('Error during call to suggestCharts:', error);\n",
              "      }\n",
              "      quickchartButtonEl.classList.remove('colab-df-spinner');\n",
              "      quickchartButtonEl.classList.add('colab-df-quickchart-complete');\n",
              "    }\n",
              "    (() => {\n",
              "      let quickchartButtonEl =\n",
              "        document.querySelector('#df-a65ee284-0b06-4374-8190-1b48d3ff477c button');\n",
              "      quickchartButtonEl.style.display =\n",
              "        google.colab.kernel.accessAllowed ? 'block' : 'none';\n",
              "    })();\n",
              "  </script>\n",
              "</div>\n",
              "\n",
              "    </div>\n",
              "  </div>\n"
            ],
            "application/vnd.google.colaboratory.intrinsic+json": {
              "type": "dataframe",
              "variable_name": "selloutData"
            }
          },
          "metadata": {},
          "execution_count": 14
        }
      ]
    }
  ]
}