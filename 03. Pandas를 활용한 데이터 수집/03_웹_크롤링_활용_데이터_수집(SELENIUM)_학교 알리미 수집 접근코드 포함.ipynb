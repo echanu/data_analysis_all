{
  "cells": [
    {
      "cell_type": "markdown",
      "metadata": {
        "id": "YJ0-FiDVT1GX"
      },
      "source": [
        "# 5. 셀레니움 활용 웹브라우저 자동화"
      ]
    },
    {
      "cell_type": "markdown",
      "metadata": {
        "id": "YkB4W5igT1Gb"
      },
      "source": [
        "### (1) 라이브러리 선언 및 드라이버 설정"
      ]
    },
    {
      "cell_type": "code",
      "source": [
        "!pip show selenium"
      ],
      "metadata": {
        "colab": {
          "base_uri": "https://localhost:8080/"
        },
        "id": "IEsLovSFVvPZ",
        "outputId": "9086a6d9-6a75-4758-edaf-9cd58b4a830c"
      },
      "execution_count": 72,
      "outputs": [
        {
          "output_type": "stream",
          "name": "stdout",
          "text": [
            "Name: selenium\n",
            "Version: 4.23.1\n",
            "Summary: Official Python bindings for Selenium WebDriver\n",
            "Home-page: https://www.selenium.dev\n",
            "Author: \n",
            "Author-email: \n",
            "License: Apache 2.0\n",
            "Location: /usr/local/lib/python3.10/dist-packages\n",
            "Requires: certifi, trio, trio-websocket, typing_extensions, urllib3, websocket-client\n",
            "Required-by: \n"
          ]
        }
      ]
    },
    {
      "cell_type": "code",
      "source": [
        "# Selenium과 webdriver-manager를 사용한 Chrome 브라우저 실행 코드\n",
        "from selenium import webdriver\n",
        "from selenium.webdriver.chrome.service import Service\n",
        "from webdriver_manager.chrome import ChromeDriverManager\n",
        "from selenium.webdriver.common.by import By\n",
        "from selenium.webdriver.common.keys import Keys\n",
        "import bs4"
      ],
      "metadata": {
        "id": "xKglAcAhfXda"
      },
      "execution_count": 73,
      "outputs": []
    },
    {
      "cell_type": "code",
      "source": [
        "!pip show webdriver-manager"
      ],
      "metadata": {
        "colab": {
          "base_uri": "https://localhost:8080/"
        },
        "id": "HuE1eigkfdkm",
        "outputId": "0ef82116-f8df-40f1-f626-5014e0c2b721"
      },
      "execution_count": 74,
      "outputs": [
        {
          "output_type": "stream",
          "name": "stdout",
          "text": [
            "Name: webdriver-manager\n",
            "Version: 4.0.2\n",
            "Summary: Library provides the way to automatically manage drivers for different browsers\n",
            "Home-page: https://github.com/SergeyPirogov/webdriver_manager\n",
            "Author: Sergey Pirogov\n",
            "Author-email: automationremarks@gmail.com\n",
            "License: \n",
            "Location: /usr/local/lib/python3.10/dist-packages\n",
            "Requires: packaging, python-dotenv, requests\n",
            "Required-by: \n"
          ]
        }
      ]
    },
    {
      "cell_type": "code",
      "execution_count": 75,
      "metadata": {
        "id": "7xkAienBT1Gb",
        "colab": {
          "base_uri": "https://localhost:8080/"
        },
        "outputId": "ad8c526a-dd82-4ad1-b9bd-bc4e1931429b"
      },
      "outputs": [
        {
          "output_type": "stream",
          "name": "stdout",
          "text": [
            "Requirement already satisfied: selenium in /usr/local/lib/python3.10/dist-packages (4.23.1)\n",
            "Requirement already satisfied: urllib3<3,>=1.26 in /usr/local/lib/python3.10/dist-packages (from urllib3[socks]<3,>=1.26->selenium) (2.0.7)\n",
            "Requirement already satisfied: trio~=0.17 in /usr/local/lib/python3.10/dist-packages (from selenium) (0.26.0)\n",
            "Requirement already satisfied: trio-websocket~=0.9 in /usr/local/lib/python3.10/dist-packages (from selenium) (0.11.1)\n",
            "Requirement already satisfied: certifi>=2021.10.8 in /usr/local/lib/python3.10/dist-packages (from selenium) (2024.7.4)\n",
            "Requirement already satisfied: typing_extensions~=4.9 in /usr/local/lib/python3.10/dist-packages (from selenium) (4.12.2)\n",
            "Requirement already satisfied: websocket-client~=1.8 in /usr/local/lib/python3.10/dist-packages (from selenium) (1.8.0)\n",
            "Requirement already satisfied: attrs>=23.2.0 in /usr/local/lib/python3.10/dist-packages (from trio~=0.17->selenium) (23.2.0)\n",
            "Requirement already satisfied: sortedcontainers in /usr/local/lib/python3.10/dist-packages (from trio~=0.17->selenium) (2.4.0)\n",
            "Requirement already satisfied: idna in /usr/local/lib/python3.10/dist-packages (from trio~=0.17->selenium) (3.7)\n",
            "Requirement already satisfied: outcome in /usr/local/lib/python3.10/dist-packages (from trio~=0.17->selenium) (1.3.0.post0)\n",
            "Requirement already satisfied: sniffio>=1.3.0 in /usr/local/lib/python3.10/dist-packages (from trio~=0.17->selenium) (1.3.1)\n",
            "Requirement already satisfied: exceptiongroup in /usr/local/lib/python3.10/dist-packages (from trio~=0.17->selenium) (1.2.2)\n",
            "Requirement already satisfied: wsproto>=0.14 in /usr/local/lib/python3.10/dist-packages (from trio-websocket~=0.9->selenium) (1.2.0)\n",
            "Requirement already satisfied: pysocks!=1.5.7,<2.0,>=1.5.6 in /usr/local/lib/python3.10/dist-packages (from urllib3[socks]<3,>=1.26->selenium) (1.7.1)\n",
            "Requirement already satisfied: h11<1,>=0.9.0 in /usr/local/lib/python3.10/dist-packages (from wsproto>=0.14->trio-websocket~=0.9->selenium) (0.14.0)\n",
            "Requirement already satisfied: webdriver-manager in /usr/local/lib/python3.10/dist-packages (4.0.2)\n",
            "Requirement already satisfied: requests in /usr/local/lib/python3.10/dist-packages (from webdriver-manager) (2.31.0)\n",
            "Requirement already satisfied: python-dotenv in /usr/local/lib/python3.10/dist-packages (from webdriver-manager) (1.0.1)\n",
            "Requirement already satisfied: packaging in /usr/local/lib/python3.10/dist-packages (from webdriver-manager) (24.1)\n",
            "Requirement already satisfied: charset-normalizer<4,>=2 in /usr/local/lib/python3.10/dist-packages (from requests->webdriver-manager) (3.3.2)\n",
            "Requirement already satisfied: idna<4,>=2.5 in /usr/local/lib/python3.10/dist-packages (from requests->webdriver-manager) (3.7)\n",
            "Requirement already satisfied: urllib3<3,>=1.21.1 in /usr/local/lib/python3.10/dist-packages (from requests->webdriver-manager) (2.0.7)\n",
            "Requirement already satisfied: certifi>=2017.4.17 in /usr/local/lib/python3.10/dist-packages (from requests->webdriver-manager) (2024.7.4)\n"
          ]
        }
      ],
      "source": [
        "# Colab에 필요한 패키지 설치\n",
        "!pip install selenium\n",
        "!pip install webdriver-manager"
      ]
    },
    {
      "cell_type": "code",
      "source": [
        "# 2. Chrome 브라우저 설치\n",
        "!apt-get update  # 패키지 목록 업데이트\n",
        "!apt-get install -y wget unzip  # wget과 unzip 패키지 설치\n",
        "!wget -q -O - https://dl-ssl.google.com/linux/linux_signing_key.pub | apt-key add -  # Google의 리눅스 서명 키 추가\n",
        "!sh -c 'echo \"deb [arch=amd64] https://dl.google.com/linux/chrome/deb/ stable main\" >> /etc/apt/sources.list.d/google-chrome.list'  # Chrome 브라우저를 다운로드할 수 있도록 저장소 추가\n",
        "!apt-get update  # 패키지 목록 다시 업데이트\n",
        "!apt-get install -y google-chrome-stable  # 최신 안정 버전의 Chrome 브라우저 설치\n",
        "!apt-get install -y fonts-nanum # 한글폰트 설치"
      ],
      "metadata": {
        "colab": {
          "base_uri": "https://localhost:8080/"
        },
        "id": "8jOl2k3ZV2o3",
        "outputId": "73418a23-cb1c-4a8c-8d44-5848e321e702"
      },
      "execution_count": 76,
      "outputs": [
        {
          "output_type": "stream",
          "name": "stdout",
          "text": [
            "\r0% [Working]\r            \rGet:1 http://security.ubuntu.com/ubuntu jammy-security InRelease [129 kB]\n",
            "\r0% [Waiting for headers] [1 InRelease 14.2 kB/129 kB 11%] [Connected to cloud.r-project.org (52.85.1\r                                                                                                    \rHit:2 http://archive.ubuntu.com/ubuntu jammy InRelease\n",
            "\r0% [Waiting for headers] [1 InRelease 51.8 kB/129 kB 40%] [Connected to cloud.r-project.org (52.85.1\r                                                                                                    \rGet:3 http://archive.ubuntu.com/ubuntu jammy-updates InRelease [128 kB]\n",
            "\r0% [3 InRelease 15.6 kB/128 kB 12%] [1 InRelease 51.8 kB/129 kB 40%] [Waiting for headers] [Connecte\r                                                                                                    \rGet:4 https://cloud.r-project.org/bin/linux/ubuntu jammy-cran40/ InRelease [3,626 B]\n",
            "\r0% [3 InRelease 15.6 kB/128 kB 12%] [1 InRelease 63.4 kB/129 kB 49%] [Connected to r2u.stat.illinois\r0% [3 InRelease 50.4 kB/128 kB 39%] [Waiting for headers] [Waiting for headers] [Connecting to ppa.l\r0% [Waiting for headers] [Waiting for headers] [Waiting for headers] [Connecting to ppa.launchpadcon\r                                                                                                    \rHit:5 http://archive.ubuntu.com/ubuntu jammy-backports InRelease\n",
            "\r0% [Waiting for headers] [Waiting for headers] [Connecting to ppa.launchpadcontent.net (185.125.190.\r                                                                                                    \rHit:6 https://dl.google.com/linux/chrome/deb stable InRelease\n",
            "\r0% [Waiting for headers] [Waiting for headers] [Connecting to ppa.launchpadcontent.net (185.125.190.\r                                                                                                    \rHit:7 https://developer.download.nvidia.com/compute/cuda/repos/ubuntu2204/x86_64  InRelease\n",
            "Ign:8 https://r2u.stat.illinois.edu/ubuntu jammy InRelease\n",
            "Hit:9 https://r2u.stat.illinois.edu/ubuntu jammy Release\n",
            "Hit:10 https://ppa.launchpadcontent.net/deadsnakes/ppa/ubuntu jammy InRelease\n",
            "Get:11 https://ppa.launchpadcontent.net/graphics-drivers/ppa/ubuntu jammy InRelease [24.3 kB]\n",
            "Hit:12 https://ppa.launchpadcontent.net/ubuntugis/ppa/ubuntu jammy InRelease\n",
            "Get:14 https://ppa.launchpadcontent.net/graphics-drivers/ppa/ubuntu jammy/main amd64 Packages [50.1 kB]\n",
            "Fetched 335 kB in 2s (174 kB/s)\n",
            "Reading package lists... Done\n",
            "W: Skipping acquire of configured file 'main/source/Sources' as repository 'https://r2u.stat.illinois.edu/ubuntu jammy InRelease' does not seem to provide it (sources.list entry misspelt?)\n",
            "Reading package lists... Done\n",
            "Building dependency tree... Done\n",
            "Reading state information... Done\n",
            "unzip is already the newest version (6.0-26ubuntu3.2).\n",
            "wget is already the newest version (1.21.2-2ubuntu1.1).\n",
            "0 upgraded, 0 newly installed, 0 to remove and 46 not upgraded.\n",
            "Warning: apt-key is deprecated. Manage keyring files in trusted.gpg.d instead (see apt-key(8)).\n",
            "OK\n",
            "Hit:1 http://archive.ubuntu.com/ubuntu jammy InRelease\n",
            "Hit:2 http://archive.ubuntu.com/ubuntu jammy-updates InRelease\n",
            "Hit:3 http://archive.ubuntu.com/ubuntu jammy-backports InRelease\n",
            "Hit:4 https://cloud.r-project.org/bin/linux/ubuntu jammy-cran40/ InRelease\n",
            "Hit:5 https://dl.google.com/linux/chrome/deb stable InRelease\n",
            "Hit:6 https://developer.download.nvidia.com/compute/cuda/repos/ubuntu2204/x86_64  InRelease\n",
            "Hit:7 http://security.ubuntu.com/ubuntu jammy-security InRelease\n",
            "Ign:8 https://r2u.stat.illinois.edu/ubuntu jammy InRelease\n",
            "Hit:9 https://r2u.stat.illinois.edu/ubuntu jammy Release\n",
            "Hit:10 https://ppa.launchpadcontent.net/deadsnakes/ppa/ubuntu jammy InRelease\n",
            "Hit:11 https://ppa.launchpadcontent.net/graphics-drivers/ppa/ubuntu jammy InRelease\n",
            "Hit:12 https://ppa.launchpadcontent.net/ubuntugis/ppa/ubuntu jammy InRelease\n",
            "Reading package lists... Done\n",
            "W: Target Packages (main/binary-amd64/Packages) is configured multiple times in /etc/apt/sources.list.d/google-chrome.list:3 and /etc/apt/sources.list.d/google-chrome.list:4\n",
            "W: Target Packages (main/binary-all/Packages) is configured multiple times in /etc/apt/sources.list.d/google-chrome.list:3 and /etc/apt/sources.list.d/google-chrome.list:4\n",
            "W: Skipping acquire of configured file 'main/source/Sources' as repository 'https://r2u.stat.illinois.edu/ubuntu jammy InRelease' does not seem to provide it (sources.list entry misspelt?)\n",
            "W: Target Packages (main/binary-amd64/Packages) is configured multiple times in /etc/apt/sources.list.d/google-chrome.list:3 and /etc/apt/sources.list.d/google-chrome.list:4\n",
            "W: Target Packages (main/binary-all/Packages) is configured multiple times in /etc/apt/sources.list.d/google-chrome.list:3 and /etc/apt/sources.list.d/google-chrome.list:4\n",
            "Reading package lists... Done\n",
            "Building dependency tree... Done\n",
            "Reading state information... Done\n",
            "google-chrome-stable is already the newest version (127.0.6533.72-1).\n",
            "0 upgraded, 0 newly installed, 0 to remove and 46 not upgraded.\n",
            "W: Target Packages (main/binary-amd64/Packages) is configured multiple times in /etc/apt/sources.list.d/google-chrome.list:3 and /etc/apt/sources.list.d/google-chrome.list:4\n",
            "W: Target Packages (main/binary-all/Packages) is configured multiple times in /etc/apt/sources.list.d/google-chrome.list:3 and /etc/apt/sources.list.d/google-chrome.list:4\n",
            "Reading package lists... Done\n",
            "Building dependency tree... Done\n",
            "Reading state information... Done\n",
            "fonts-nanum is already the newest version (20200506-1).\n",
            "0 upgraded, 0 newly installed, 0 to remove and 46 not upgraded.\n",
            "W: Target Packages (main/binary-amd64/Packages) is configured multiple times in /etc/apt/sources.list.d/google-chrome.list:3 and /etc/apt/sources.list.d/google-chrome.list:4\n",
            "W: Target Packages (main/binary-all/Packages) is configured multiple times in /etc/apt/sources.list.d/google-chrome.list:3 and /etc/apt/sources.list.d/google-chrome.list:4\n"
          ]
        }
      ]
    },
    {
      "cell_type": "markdown",
      "source": [
        "### 코랩인 경우 해당 셀내 ★ 주석해제 필요"
      ],
      "metadata": {
        "id": "8qayOv3dUKjo"
      }
    },
    {
      "cell_type": "code",
      "source": [
        "# Selenium과 webdriver-manager를 사용한 Chrome 브라우저 실행 코드\n",
        "from selenium import webdriver\n",
        "from selenium.webdriver.chrome.service import Service\n",
        "from webdriver_manager.chrome import ChromeDriverManager\n",
        "from selenium.webdriver.common.by import By\n",
        "from selenium.webdriver.common.keys import Keys\n",
        "import bs4\n",
        "\n",
        "# WebDriver 설치 및 브라우저 실행 설정\n",
        "options = webdriver.ChromeOptions()\n",
        "options.add_argument(\"--headless\")  # ★헤드리스 모드로 실행 (브라우저 창을 표시하지 않음)\n",
        "options.add_argument(\"window-size=1920x1080\") # ★헤드리스 모드로 실행 (명시적으로 표기)\n",
        "options.add_argument(\"--no-sandbox\")  # 샌드박스 모드 비활성화 (가상 환경에서 안정적인 실행을 위해)\n",
        "options.add_argument(\"--disable-dev-shm-usage\")  # /dev/shm 사용 비활성화 (메모리 부족 방지)\n",
        "options.add_argument(\"--disable-gpu\")  # GPU 가속 비활성화 (필요시 사용)\n",
        "options.add_argument(\"start-maximized\")  # 브라우저 창 최대화\n",
        "options.add_argument(\"disable-infobars\")  # 정보 표시줄 비활성화\n",
        "options.add_argument(\"--disable-extensions\")  # 브라우저 확장 프로그램 비활성화\n",
        "# user-agent 값 설정\n",
        "user_agent = \"Mozilla/5.0 (Windows NT 10.0; Win64; x64) AppleWebKit/537.36 (KHTML, like Gecko) Chrome/114.0.0.0 Safari/537.36\"\n",
        "options.add_argument(f\"user-agent={user_agent}\")\n",
        "\n",
        "# WebDriver로 Chrome 브라우저 실행\n",
        "driver = webdriver.Chrome(service=Service(ChromeDriverManager().install()), options=options)\n",
        "# 웹페이지 파싱 될때까지 최대 3초 기다림\n",
        "driver.implicitly_wait(3)"
      ],
      "metadata": {
        "id": "BMVioTUxiKfl"
      },
      "execution_count": 77,
      "outputs": []
    },
    {
      "cell_type": "code",
      "source": [
        "# WebDriver로 Chrome 브라우저 실행\n",
        "driver = webdriver.Chrome(service=Service(ChromeDriverManager().install()), options=options)"
      ],
      "metadata": {
        "id": "fk3jUVMUBumw"
      },
      "execution_count": 78,
      "outputs": []
    },
    {
      "cell_type": "code",
      "source": [
        "driver.current_url"
      ],
      "metadata": {
        "id": "AfWF1ifTBveC",
        "outputId": "21790d72-f655-4dce-8e9c-0bd2477e5bd7",
        "colab": {
          "base_uri": "https://localhost:8080/",
          "height": 35
        }
      },
      "execution_count": 79,
      "outputs": [
        {
          "output_type": "execute_result",
          "data": {
            "text/plain": [
              "'data:,'"
            ],
            "application/vnd.google.colaboratory.intrinsic+json": {
              "type": "string"
            }
          },
          "metadata": {},
          "execution_count": 79
        }
      ]
    },
    {
      "cell_type": "code",
      "source": [
        "driver.save_screenshot(\"here.jpg\")"
      ],
      "metadata": {
        "colab": {
          "base_uri": "https://localhost:8080/"
        },
        "id": "PYL6nj_Mahz-",
        "outputId": "732b303b-6912-4c44-b9e0-1b8edca475dc"
      },
      "execution_count": 80,
      "outputs": [
        {
          "output_type": "stream",
          "name": "stderr",
          "text": [
            "/usr/local/lib/python3.10/dist-packages/selenium/webdriver/remote/webdriver.py:829: UserWarning: name used for saved screenshot does not match file type. It should end with a `.png` extension\n",
            "  return self.get_screenshot_as_file(filename)\n"
          ]
        },
        {
          "output_type": "execute_result",
          "data": {
            "text/plain": [
              "True"
            ]
          },
          "metadata": {},
          "execution_count": 80
        }
      ]
    },
    {
      "cell_type": "markdown",
      "source": [
        "### 1. 웹페이지 이동 + 스크린샷"
      ],
      "metadata": {
        "id": "gzRl3JihbAmT"
      }
    },
    {
      "cell_type": "code",
      "source": [
        "pwd"
      ],
      "metadata": {
        "colab": {
          "base_uri": "https://localhost:8080/",
          "height": 35
        },
        "id": "wuutVmT4fvLE",
        "outputId": "98815fb0-8a95-4376-fb3c-3c5ae59322b0"
      },
      "execution_count": 81,
      "outputs": [
        {
          "output_type": "execute_result",
          "data": {
            "text/plain": [
              "'/content'"
            ],
            "application/vnd.google.colaboratory.intrinsic+json": {
              "type": "string"
            }
          },
          "metadata": {},
          "execution_count": 81
        }
      ]
    },
    {
      "cell_type": "code",
      "source": [
        "baseUrl = \"https://www.sparkkorea.com\"\n",
        "driver.get( baseUrl )\n",
        "# 현재 위치하고 있는 사이트의 주소를 반환\n",
        "driver.current_url\n",
        "# 현재 드라이버의 페이지를 스크린샷\n",
        "driver.save_screenshot(\"here.jpg\")"
      ],
      "metadata": {
        "colab": {
          "base_uri": "https://localhost:8080/"
        },
        "id": "mYco_YpobD-r",
        "outputId": "372b1e6f-7975-49aa-9452-8c21202f90c7"
      },
      "execution_count": 82,
      "outputs": [
        {
          "output_type": "execute_result",
          "data": {
            "text/plain": [
              "True"
            ]
          },
          "metadata": {},
          "execution_count": 82
        }
      ]
    },
    {
      "cell_type": "markdown",
      "source": [
        "### 2. 버튼 클릭 및 데이터 수집까지 쭉 bs4"
      ],
      "metadata": {
        "id": "1KpKvDEos_po"
      }
    },
    {
      "cell_type": "code",
      "source": [
        "baseUrl = \"https://www.sparkkorea.com\"\n",
        "driver.get( baseUrl )"
      ],
      "metadata": {
        "id": "Flk_Ija3BEdp"
      },
      "execution_count": 83,
      "outputs": []
    },
    {
      "cell_type": "code",
      "source": [
        "driver.current_url"
      ],
      "metadata": {
        "colab": {
          "base_uri": "https://localhost:8080/",
          "height": 35
        },
        "id": "a3CYyfLFBJuR",
        "outputId": "30bbe542-9baa-4f75-9527-727b26d24aec"
      },
      "execution_count": 84,
      "outputs": [
        {
          "output_type": "execute_result",
          "data": {
            "text/plain": [
              "'https://sparkkorea.com/'"
            ],
            "application/vnd.google.colaboratory.intrinsic+json": {
              "type": "string"
            }
          },
          "metadata": {},
          "execution_count": 84
        }
      ]
    },
    {
      "cell_type": "code",
      "source": [
        "# xpath url 탐색 (단, xpath, fullxpath)\n",
        "quizBtnXpath = '//*[@id=\"menu-item-382\"]/a'\n",
        "# 드라이버에게 버튼찾아라 (못찾으면 웹페이지 확인)\n",
        "quizBtnEle = driver.find_element(By.XPATH, quizBtnXpath)\n",
        "# 해당 요소를 클릭\n",
        "quizBtnEle.click()"
      ],
      "metadata": {
        "id": "si_u2YP9g393"
      },
      "execution_count": 85,
      "outputs": []
    },
    {
      "cell_type": "code",
      "source": [
        "resp = requests.get(\"https://www.sparkkorea.com/퀴즈\")\n",
        "html = resp.text\n",
        "bs = bs4.BeautifulSoup(html, \"html.parser\")"
      ],
      "metadata": {
        "id": "UncphW1nmZUs"
      },
      "execution_count": 86,
      "outputs": []
    },
    {
      "cell_type": "code",
      "source": [
        "html = driver.page_source\n",
        "bs = bs4.BeautifulSoup(html, \"html.parser\")"
      ],
      "metadata": {
        "id": "QYu9KzndbCNr"
      },
      "execution_count": 87,
      "outputs": []
    },
    {
      "cell_type": "code",
      "source": [
        " div = bs.find(name = \"div\", attrs={ \"class\":\"class_spark_quiz\"})"
      ],
      "metadata": {
        "id": "RNxWuJvim6-K"
      },
      "execution_count": 88,
      "outputs": []
    },
    {
      "cell_type": "code",
      "source": [
        "aTags = div.findAll(name = \"a\")\n",
        "aTags"
      ],
      "metadata": {
        "colab": {
          "base_uri": "https://localhost:8080/"
        },
        "id": "WtylOzRLnAt8",
        "outputId": "0d453fe6-0f7d-4c31-eed6-f6347a9569c5"
      },
      "execution_count": 89,
      "outputs": [
        {
          "output_type": "execute_result",
          "data": {
            "text/plain": [
              "[<a href=\"https://forms.gle/Fw49w9GhWQChDcZm7\"> 6/13 Spark 심화과정 </a>,\n",
              " <a href=\"https://forms.gle/G4TcXm3fKuHLHA6D6\"> 6/13 Spark 기본과정 </a>,\n",
              " <a href=\"https://forms.gle/M8gr1kC2ubA3UDVp8\"> 6/18 Spark [MAP_FILTER] </a>,\n",
              " <a href=\"https://forms.gle/h8w5mZ4MNaPLCPbi6\"> 6/18 Spark GroupBy 심화 </a>,\n",
              " <a href=\"https://forms.gle/q5yL6QHfueDLM5w27\"> 6/25 Spark RDD 실전 분석 </a>,\n",
              " <a href=\"https://forms.gle/Gxb4y6LfVYiaLu4M7\"> 6/27 Spark RDD 실전 분석2 </a>]"
            ]
          },
          "metadata": {},
          "execution_count": 89
        }
      ]
    },
    {
      "cell_type": "markdown",
      "source": [
        "### 3. 구글 접속 후 텍스트 입력하기"
      ],
      "metadata": {
        "id": "R1UesL5UmqbX"
      }
    },
    {
      "cell_type": "code",
      "source": [
        "baseUrl = \"https://www.google.com\""
      ],
      "metadata": {
        "id": "pzCm7_HXnj5X"
      },
      "execution_count": 90,
      "outputs": []
    },
    {
      "cell_type": "code",
      "source": [
        "# google.com 에 접속\n",
        "driver.get(baseUrl)\n",
        "# 서치 바 탐색\n",
        "gSearchXpath = '//*[@id=\"APjFqb\"]'\n",
        "gSearchEle = driver.find_element(By.XPATH, gSearchXpath)\n",
        "# 키 입력\n",
        "inputText = \"selenium\"\n",
        "gSearchEle.send_keys(inputText)\n",
        "driver.save_screenshot(\"here.jpg\")\n",
        "gSearchEle.send_keys(Keys.ENTER)\n",
        "driver.save_screenshot(\"here.jpg\")"
      ],
      "metadata": {
        "id": "r6iHVIn0bCK_",
        "colab": {
          "base_uri": "https://localhost:8080/"
        },
        "outputId": "63e69b26-3bd5-4efc-f6a8-d9287cf5bf07"
      },
      "execution_count": 91,
      "outputs": [
        {
          "output_type": "execute_result",
          "data": {
            "text/plain": [
              "True"
            ]
          },
          "metadata": {},
          "execution_count": 91
        }
      ]
    },
    {
      "cell_type": "code",
      "source": [
        "driver.save_screenshot(\"here.jpg\")"
      ],
      "metadata": {
        "colab": {
          "base_uri": "https://localhost:8080/"
        },
        "id": "52sU5L3_niZu",
        "outputId": "6cc97a56-2d95-46de-a86b-57fa3d8890fb"
      },
      "execution_count": 92,
      "outputs": [
        {
          "output_type": "stream",
          "name": "stderr",
          "text": [
            "/usr/local/lib/python3.10/dist-packages/selenium/webdriver/remote/webdriver.py:829: UserWarning: name used for saved screenshot does not match file type. It should end with a `.png` extension\n",
            "  return self.get_screenshot_as_file(filename)\n"
          ]
        },
        {
          "output_type": "execute_result",
          "data": {
            "text/plain": [
              "True"
            ]
          },
          "metadata": {},
          "execution_count": 92
        }
      ]
    },
    {
      "cell_type": "code",
      "source": [
        "### 미션!!! 학교 알리미 사이트에 접속 후\n",
        "### 초등학교 라고 검색\n",
        "### 관심대상 지역의 초등학생 수를 수집한다!\n",
        "\n",
        "### 미션2!!! www.timeanddate.com/holidays 접속 후\n",
        "### 관심대상 나라의 연휴정보 2024년도 기준!!!\n",
        "### 데이터를 수집한다"
      ],
      "metadata": {
        "id": "8zUxXIqmnyRT"
      },
      "execution_count": null,
      "outputs": []
    },
    {
      "cell_type": "markdown",
      "source": [
        "### 1. 학교 알리미 홈페이지에 접속한다 (https://www.schoolinfo.go.kr/)"
      ],
      "metadata": {
        "id": "c8tcInOAonfX"
      }
    },
    {
      "cell_type": "code",
      "source": [
        "baseUrl = \"https://www.schoolinfo.go.kr/\""
      ],
      "metadata": {
        "id": "oq-6qoVTpeHC"
      },
      "execution_count": 95,
      "outputs": []
    },
    {
      "cell_type": "code",
      "source": [
        "driver.get(baseUrl)"
      ],
      "metadata": {
        "id": "B43HggddpoBt"
      },
      "execution_count": 96,
      "outputs": []
    },
    {
      "cell_type": "code",
      "source": [
        "driver.save_screenshot(\"here.jpg\")"
      ],
      "metadata": {
        "colab": {
          "base_uri": "https://localhost:8080/"
        },
        "id": "86VoEBLUprHX",
        "outputId": "c74aaab3-f40e-4ee2-8275-87de10d87ea3"
      },
      "execution_count": 97,
      "outputs": [
        {
          "output_type": "stream",
          "name": "stderr",
          "text": [
            "/usr/local/lib/python3.10/dist-packages/selenium/webdriver/remote/webdriver.py:829: UserWarning: name used for saved screenshot does not match file type. It should end with a `.png` extension\n",
            "  return self.get_screenshot_as_file(filename)\n"
          ]
        },
        {
          "output_type": "execute_result",
          "data": {
            "text/plain": [
              "True"
            ]
          },
          "metadata": {},
          "execution_count": 97
        }
      ]
    },
    {
      "cell_type": "markdown",
      "source": [
        "### 2. 검색창에 초등학교라고 입력한다"
      ],
      "metadata": {
        "id": "QKZDgBJoore7"
      }
    },
    {
      "cell_type": "code",
      "source": [
        "serchInputXpath = '//*[@id=\"SEARCH_KEYWORD\"]'"
      ],
      "metadata": {
        "id": "5z40zbfsp-Sb"
      },
      "execution_count": 98,
      "outputs": []
    },
    {
      "cell_type": "code",
      "source": [
        "serchInputEle = driver.find_element(By.XPATH, serchInputXpath)"
      ],
      "metadata": {
        "id": "3JDCRgcUqFuq"
      },
      "execution_count": 99,
      "outputs": []
    },
    {
      "cell_type": "code",
      "source": [
        "inputText = \"초등학교\""
      ],
      "metadata": {
        "id": "52lFRWSGqXmT"
      },
      "execution_count": 100,
      "outputs": []
    },
    {
      "cell_type": "code",
      "source": [
        "serchInputEle.send_keys(inputText)"
      ],
      "metadata": {
        "id": "97NkC57rqVmS"
      },
      "execution_count": 101,
      "outputs": []
    },
    {
      "cell_type": "code",
      "source": [
        "serchBtnXpath = '//*[@id=\"headerSearchForm\"]/button'"
      ],
      "metadata": {
        "id": "6Jv6376aqp9t"
      },
      "execution_count": 103,
      "outputs": []
    },
    {
      "cell_type": "code",
      "source": [
        "serchBtnEle = driver.find_element(By.XPATH, serchBtnXpath)\n",
        "serchBtnEle.click()"
      ],
      "metadata": {
        "id": "QkDjTR5gqs0P"
      },
      "execution_count": 104,
      "outputs": []
    },
    {
      "cell_type": "code",
      "source": [
        "driver.save_screenshot(\"here.jpg\")"
      ],
      "metadata": {
        "colab": {
          "base_uri": "https://localhost:8080/"
        },
        "id": "qVjf-Oftq5cS",
        "outputId": "a95e0e34-6e6c-4c21-ac2e-335132622180"
      },
      "execution_count": 105,
      "outputs": [
        {
          "output_type": "stream",
          "name": "stderr",
          "text": [
            "/usr/local/lib/python3.10/dist-packages/selenium/webdriver/remote/webdriver.py:829: UserWarning: name used for saved screenshot does not match file type. It should end with a `.png` extension\n",
            "  return self.get_screenshot_as_file(filename)\n"
          ]
        },
        {
          "output_type": "execute_result",
          "data": {
            "text/plain": [
              "True"
            ]
          },
          "metadata": {},
          "execution_count": 105
        }
      ]
    },
    {
      "cell_type": "markdown",
      "source": [
        "### 3. 검색 버튼에서 설립구분,관심지역을 선택한다"
      ],
      "metadata": {
        "id": "9YXD2682oy_d"
      }
    },
    {
      "cell_type": "code",
      "source": [
        "from selenium.webdriver.support.ui import Select"
      ],
      "metadata": {
        "id": "n9B01wDTsKYs"
      },
      "execution_count": 107,
      "outputs": []
    },
    {
      "cell_type": "code",
      "source": [
        "gubunBaseXpath = '//*[@id=\"FNDN_SC_CD\"]'\n",
        "gubunBaseEle = driver.find_element(By.XPATH, gubunBaseXpath)"
      ],
      "metadata": {
        "id": "wFD-_D8urpB9"
      },
      "execution_count": 106,
      "outputs": []
    },
    {
      "cell_type": "code",
      "source": [
        "selectObj = Select( gubunBaseEle )"
      ],
      "metadata": {
        "id": "Q8FYgLlzr3_-"
      },
      "execution_count": 108,
      "outputs": []
    },
    {
      "cell_type": "code",
      "source": [
        "gubunBaseText = \"설립구분\""
      ],
      "metadata": {
        "id": "VMt2hxHnslVX"
      },
      "execution_count": 109,
      "outputs": []
    },
    {
      "cell_type": "code",
      "source": [
        "selectObj.select_by_visible_text(gubunBaseText)"
      ],
      "metadata": {
        "id": "H1JfRSvbsgVL"
      },
      "execution_count": 110,
      "outputs": []
    },
    {
      "cell_type": "code",
      "source": [
        "gubunSidoXpath = '//*[@id=\"SIDO_CODE\"]'"
      ],
      "metadata": {
        "id": "c3ZLWidBswA6"
      },
      "execution_count": 111,
      "outputs": []
    },
    {
      "cell_type": "code",
      "source": [
        "gubunSidoEle = driver.find_element(By.XPATH, gubunSidoXpath)"
      ],
      "metadata": {
        "id": "ZKVPDVZ9sz0N"
      },
      "execution_count": 112,
      "outputs": []
    },
    {
      "cell_type": "code",
      "source": [
        "sidoSelectObj = Select(gubunSidoEle)\n",
        "gubunSidoText = \"서울특별시\"\n",
        "sidoSelectObj.select_by_visible_text(gubunSidoText)"
      ],
      "metadata": {
        "id": "we5NGaQvs5Hs"
      },
      "execution_count": 113,
      "outputs": []
    },
    {
      "cell_type": "code",
      "source": [
        "gubunGuXpath = '//*[@id=\"GUGUN_CODE\"]'"
      ],
      "metadata": {
        "id": "v4_ENU94tVe6"
      },
      "execution_count": 117,
      "outputs": []
    },
    {
      "cell_type": "code",
      "source": [
        "gubunGuEle = driver.find_element(By.XPATH, gubunGuXpath)"
      ],
      "metadata": {
        "id": "IsB4VKG8tfyx"
      },
      "execution_count": 118,
      "outputs": []
    },
    {
      "cell_type": "code",
      "source": [
        "guSelectObj = Select(gubunGuEle)\n",
        "gubunGuText = \"강서구\"\n",
        "guSelectObj.select_by_visible_text(gubunGuText)"
      ],
      "metadata": {
        "id": "i5-6UuHOtIEI"
      },
      "execution_count": 119,
      "outputs": []
    },
    {
      "cell_type": "code",
      "source": [
        "driver.save_screenshot(\"here.jpg\")"
      ],
      "metadata": {
        "colab": {
          "base_uri": "https://localhost:8080/"
        },
        "id": "USSu9pdEt9Dj",
        "outputId": "77fad049-a957-4762-9d1c-15ec765dbca1"
      },
      "execution_count": 120,
      "outputs": [
        {
          "output_type": "stream",
          "name": "stderr",
          "text": [
            "/usr/local/lib/python3.10/dist-packages/selenium/webdriver/remote/webdriver.py:829: UserWarning: name used for saved screenshot does not match file type. It should end with a `.png` extension\n",
            "  return self.get_screenshot_as_file(filename)\n"
          ]
        },
        {
          "output_type": "execute_result",
          "data": {
            "text/plain": [
              "True"
            ]
          },
          "metadata": {},
          "execution_count": 120
        }
      ]
    },
    {
      "cell_type": "markdown",
      "source": [
        "### 4. 조회버튼을 클릭한다."
      ],
      "metadata": {
        "id": "WWzQsTy-o6rG"
      }
    },
    {
      "cell_type": "code",
      "source": [
        "selectGuBtnXpath = '//*[@id=\"contents\"]/div/div[1]/div/a'"
      ],
      "metadata": {
        "id": "IExwhoKuo9GN"
      },
      "execution_count": 122,
      "outputs": []
    },
    {
      "cell_type": "code",
      "source": [
        "selectGuBtnEle = driver.find_element(By.XPATH, selectGuBtnXpath)"
      ],
      "metadata": {
        "id": "kkAaL7O4uRoB"
      },
      "execution_count": 123,
      "outputs": []
    },
    {
      "cell_type": "code",
      "source": [
        "selectGuBtnEle.click()"
      ],
      "metadata": {
        "id": "NGVSUQhovEwS"
      },
      "execution_count": 124,
      "outputs": []
    },
    {
      "cell_type": "code",
      "source": [
        "driver.save_screenshot(\"here.jpg\")"
      ],
      "metadata": {
        "colab": {
          "base_uri": "https://localhost:8080/"
        },
        "id": "IEIVGpHcvF-S",
        "outputId": "aa853cc8-ed35-4e58-ea8d-fcb6d3def75c"
      },
      "execution_count": 125,
      "outputs": [
        {
          "output_type": "stream",
          "name": "stderr",
          "text": [
            "/usr/local/lib/python3.10/dist-packages/selenium/webdriver/remote/webdriver.py:829: UserWarning: name used for saved screenshot does not match file type. It should end with a `.png` extension\n",
            "  return self.get_screenshot_as_file(filename)\n"
          ]
        },
        {
          "output_type": "execute_result",
          "data": {
            "text/plain": [
              "True"
            ]
          },
          "metadata": {},
          "execution_count": 125
        }
      ]
    },
    {
      "cell_type": "markdown",
      "source": [
        "### 더보기 버튼 클릭"
      ],
      "metadata": {
        "id": "dvAQzFvcvaqO"
      }
    },
    {
      "cell_type": "code",
      "source": [
        "moreViewXpath = '//*[@id=\"contents\"]/div/div[2]/a'"
      ],
      "metadata": {
        "id": "w8atD9frveXA"
      },
      "execution_count": 126,
      "outputs": []
    },
    {
      "cell_type": "code",
      "source": [
        "moreViewEle = driver.find_element(By.XPATH, moreViewXpath)"
      ],
      "metadata": {
        "id": "z9Ug90bpvhmu"
      },
      "execution_count": 127,
      "outputs": []
    },
    {
      "cell_type": "code",
      "source": [
        "moreViewEle.click()"
      ],
      "metadata": {
        "id": "hc09WteCvmob"
      },
      "execution_count": 128,
      "outputs": []
    },
    {
      "cell_type": "code",
      "source": [
        "driver.save_screenshot(\"here.jpg\")"
      ],
      "metadata": {
        "colab": {
          "base_uri": "https://localhost:8080/"
        },
        "id": "XGO3ZxCuvphl",
        "outputId": "068bbf03-eb72-4e68-b778-ab4295b90a2c"
      },
      "execution_count": 129,
      "outputs": [
        {
          "output_type": "stream",
          "name": "stderr",
          "text": [
            "/usr/local/lib/python3.10/dist-packages/selenium/webdriver/remote/webdriver.py:829: UserWarning: name used for saved screenshot does not match file type. It should end with a `.png` extension\n",
            "  return self.get_screenshot_as_file(filename)\n"
          ]
        },
        {
          "output_type": "execute_result",
          "data": {
            "text/plain": [
              "True"
            ]
          },
          "metadata": {},
          "execution_count": 129
        }
      ]
    },
    {
      "cell_type": "code",
      "source": [
        "html = driver.page_source"
      ],
      "metadata": {
        "id": "9jwrSIdPvyCw"
      },
      "execution_count": 130,
      "outputs": []
    },
    {
      "cell_type": "markdown",
      "source": [
        "### 여기까지가 selenium 역할 끝!"
      ],
      "metadata": {
        "id": "AxYQXlmxv2_t"
      }
    },
    {
      "cell_type": "code",
      "source": [
        "bs = bs4.BeautifulSoup( html, \"html.parser\")\n",
        "# bs"
      ],
      "metadata": {
        "id": "R_DIiC33v1kG"
      },
      "execution_count": 134,
      "outputs": []
    },
    {
      "cell_type": "code",
      "source": [],
      "metadata": {
        "id": "Mj2EZKvOx4NH"
      },
      "execution_count": null,
      "outputs": []
    }
  ],
  "metadata": {
    "kernelspec": {
      "display_name": "Python 3 (ipykernel)",
      "language": "python",
      "name": "python3"
    },
    "language_info": {
      "codemirror_mode": {
        "name": "ipython",
        "version": 3
      },
      "file_extension": ".py",
      "mimetype": "text/x-python",
      "name": "python",
      "nbconvert_exporter": "python",
      "pygments_lexer": "ipython3",
      "version": "3.11.9"
    },
    "colab": {
      "provenance": []
    }
  },
  "nbformat": 4,
  "nbformat_minor": 0
}